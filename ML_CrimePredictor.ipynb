{
 "cells": [
  {
   "cell_type": "markdown",
   "metadata": {},
   "source": [
    "# #COMP_381\n",
    "## Predicting Crime Location_Summer 2018\n",
    "\n",
    "Ahmed al-Mogeet"
   ]
  },
  {
   "cell_type": "markdown",
   "metadata": {},
   "source": [
    "\n",
    "\n",
    "*Project overview\n",
    "\n",
    "In this project I will use ClassificationTrees, k-NN, and Regression to examine a set of data collected by province of British Coulmbia about crime in Vancouver from 2003-2017 to be able to produce a model that is capable of predicting dangours areas using time and block location.\n",
    "\n",
    "the dataset coonsists of: Type of crime, exact time and date (as I removed all duplicates and NaNs), and location \n",
    "\n",
    "The models im building are capable of answering the follwing questions:\n",
    "\n",
    "What locations we should place more police units and at what time of the day? \n",
    "What type of crimes tend to happen more in a particular area?\n",
    "\n"
   ]
  },
  {
   "cell_type": "markdown",
   "metadata": {},
   "source": [
    "# Trees\n",
    "\n",
    "_This model main goal is to make prediction about what area has most crime. The predictor is nieghour's location uses features such as: Type of crime, Block location, Hour of crime.\n",
    "\n",
    "_The data has been minipulated by changing catagorical varibles to integers.\n",
    "\n",
    "_The data is collected from the city of Vancouver Canada between the years of 2003-2017. https://www.kaggle.com/damianpanek/vancouver-crime/data _This is not a supervised method since we're lookinf for a certain answer.\n",
    "\n",
    "_Block location is main factor to dtermine wheather if\n",
    "a Nighbourhood Block is safe or not\n"
   ]
  },
  {
   "cell_type": "code",
   "execution_count": 1,
   "metadata": {
    "collapsed": true
   },
   "outputs": [],
   "source": [
    "import pandas as pd\n",
    "import numpy as np\n",
    "import matplotlib as mpl\n",
    "import matplotlib.pyplot as plt\n",
    "import pandas as pd\n",
    "import seaborn as sns\n",
    "%matplotlib inline"
   ]
  },
  {
   "cell_type": "code",
   "execution_count": 2,
   "metadata": {
    "collapsed": false
   },
   "outputs": [
    {
     "name": "stderr",
     "output_type": "stream",
     "text": [
      "/home/root1/anaconda3/lib/python3.6/site-packages/sklearn/cross_validation.py:41: DeprecationWarning: This module was deprecated in version 0.18 in favor of the model_selection module into which all the refactored classes and functions are moved. Also note that the interface of the new CV iterators are different from that of this module. This module will be removed in 0.20.\n",
      "  \"This module will be removed in 0.20.\", DeprecationWarning)\n"
     ]
    }
   ],
   "source": [
    "    from sklearn.cross_validation import train_test_split\n",
    "    from sklearn.tree import DecisionTreeRegressor, DecisionTreeClassifier, export_graphviz\n",
    "    from sklearn.ensemble import RandomForestRegressor, GradientBoostingRegressor, RandomForestClassifier, GradientBoostingClassifier\n",
    "    from sklearn.metrics import confusion_matrix, mean_squared_error, precision_recall_fscore_support, accuracy_score\n",
    "    from sklearn.cross_validation import train_test_split\n",
    "    from sklearn.discriminant_analysis import LinearDiscriminantAnalysis\n",
    "    from sklearn.neighbors import KNeighborsClassifier\n",
    "    from sklearn.linear_model import LinearRegression, Lasso\n",
    "    from sklearn.feature_selection import SelectKBest, SelectPercentile, f_regression\n",
    "    from sklearn.model_selection import KFold\n",
    "    from sklearn.metrics import mean_squared_error\n",
    "    from sklearn.metrics import confusion_matrix, accuracy_score\n"
   ]
  },
  {
   "cell_type": "code",
   "execution_count": 3,
   "metadata": {
    "collapsed": false
   },
   "outputs": [
    {
     "data": {
      "text/html": [
       "<div>\n",
       "<style>\n",
       "    .dataframe thead tr:only-child th {\n",
       "        text-align: right;\n",
       "    }\n",
       "\n",
       "    .dataframe thead th {\n",
       "        text-align: left;\n",
       "    }\n",
       "\n",
       "    .dataframe tbody tr th {\n",
       "        vertical-align: top;\n",
       "    }\n",
       "</style>\n",
       "<table border=\"1\" class=\"dataframe\">\n",
       "  <thead>\n",
       "    <tr style=\"text-align: right;\">\n",
       "      <th></th>\n",
       "      <th>TYPE</th>\n",
       "      <th>YEAR</th>\n",
       "      <th>MONTH</th>\n",
       "      <th>DAY</th>\n",
       "      <th>HOUR</th>\n",
       "      <th>MINUTE</th>\n",
       "      <th>HUNDRED_BLOCK</th>\n",
       "      <th>NEIGHBOURHOOD</th>\n",
       "    </tr>\n",
       "  </thead>\n",
       "  <tbody>\n",
       "    <tr>\n",
       "      <th>0</th>\n",
       "      <td>Other Theft</td>\n",
       "      <td>2003</td>\n",
       "      <td>5</td>\n",
       "      <td>12</td>\n",
       "      <td>16</td>\n",
       "      <td>15</td>\n",
       "      <td>9XX TERMINAL AVE</td>\n",
       "      <td>Strathcona</td>\n",
       "    </tr>\n",
       "    <tr>\n",
       "      <th>1</th>\n",
       "      <td>Other Theft</td>\n",
       "      <td>2003</td>\n",
       "      <td>5</td>\n",
       "      <td>7</td>\n",
       "      <td>15</td>\n",
       "      <td>20</td>\n",
       "      <td>9XX TERMINAL AVE</td>\n",
       "      <td>Strathcona</td>\n",
       "    </tr>\n",
       "    <tr>\n",
       "      <th>2</th>\n",
       "      <td>Other Theft</td>\n",
       "      <td>2003</td>\n",
       "      <td>4</td>\n",
       "      <td>23</td>\n",
       "      <td>16</td>\n",
       "      <td>40</td>\n",
       "      <td>9XX TERMINAL AVE</td>\n",
       "      <td>Strathcona</td>\n",
       "    </tr>\n",
       "    <tr>\n",
       "      <th>3</th>\n",
       "      <td>Other Theft</td>\n",
       "      <td>2003</td>\n",
       "      <td>4</td>\n",
       "      <td>20</td>\n",
       "      <td>11</td>\n",
       "      <td>15</td>\n",
       "      <td>9XX TERMINAL AVE</td>\n",
       "      <td>Strathcona</td>\n",
       "    </tr>\n",
       "    <tr>\n",
       "      <th>4</th>\n",
       "      <td>Other Theft</td>\n",
       "      <td>2003</td>\n",
       "      <td>4</td>\n",
       "      <td>12</td>\n",
       "      <td>17</td>\n",
       "      <td>45</td>\n",
       "      <td>9XX TERMINAL AVE</td>\n",
       "      <td>Strathcona</td>\n",
       "    </tr>\n",
       "  </tbody>\n",
       "</table>\n",
       "</div>"
      ],
      "text/plain": [
       "          TYPE  YEAR  MONTH  DAY  HOUR  MINUTE     HUNDRED_BLOCK NEIGHBOURHOOD\n",
       "0  Other Theft  2003      5   12    16      15  9XX TERMINAL AVE    Strathcona\n",
       "1  Other Theft  2003      5    7    15      20  9XX TERMINAL AVE    Strathcona\n",
       "2  Other Theft  2003      4   23    16      40  9XX TERMINAL AVE    Strathcona\n",
       "3  Other Theft  2003      4   20    11      15  9XX TERMINAL AVE    Strathcona\n",
       "4  Other Theft  2003      4   12    17      45  9XX TERMINAL AVE    Strathcona"
      ]
     },
     "execution_count": 3,
     "metadata": {},
     "output_type": "execute_result"
    }
   ],
   "source": [
    "# downloading the dataset\n",
    "df3 = pd.read_csv('crime-ed11.csv')\n",
    "# showing the labels for the table \n",
    "df3.head()"
   ]
  },
  {
   "cell_type": "code",
   "execution_count": 4,
   "metadata": {
    "collapsed": false
   },
   "outputs": [
    {
     "data": {
      "text/html": [
       "<div>\n",
       "<style>\n",
       "    .dataframe thead tr:only-child th {\n",
       "        text-align: right;\n",
       "    }\n",
       "\n",
       "    .dataframe thead th {\n",
       "        text-align: left;\n",
       "    }\n",
       "\n",
       "    .dataframe tbody tr th {\n",
       "        vertical-align: top;\n",
       "    }\n",
       "</style>\n",
       "<table border=\"1\" class=\"dataframe\">\n",
       "  <thead>\n",
       "    <tr style=\"text-align: right;\">\n",
       "      <th></th>\n",
       "      <th>TYPE</th>\n",
       "      <th>YEAR</th>\n",
       "      <th>MONTH</th>\n",
       "      <th>DAY</th>\n",
       "      <th>HOUR</th>\n",
       "      <th>MINUTE</th>\n",
       "      <th>HUNDRED_BLOCK</th>\n",
       "      <th>NEIGHBOURHOOD</th>\n",
       "    </tr>\n",
       "  </thead>\n",
       "  <tbody>\n",
       "    <tr>\n",
       "      <th>0</th>\n",
       "      <td>0</td>\n",
       "      <td>2003</td>\n",
       "      <td>5</td>\n",
       "      <td>12</td>\n",
       "      <td>16</td>\n",
       "      <td>15</td>\n",
       "      <td>0</td>\n",
       "      <td>0</td>\n",
       "    </tr>\n",
       "    <tr>\n",
       "      <th>1</th>\n",
       "      <td>0</td>\n",
       "      <td>2003</td>\n",
       "      <td>5</td>\n",
       "      <td>7</td>\n",
       "      <td>15</td>\n",
       "      <td>20</td>\n",
       "      <td>0</td>\n",
       "      <td>0</td>\n",
       "    </tr>\n",
       "    <tr>\n",
       "      <th>2</th>\n",
       "      <td>0</td>\n",
       "      <td>2003</td>\n",
       "      <td>4</td>\n",
       "      <td>23</td>\n",
       "      <td>16</td>\n",
       "      <td>40</td>\n",
       "      <td>0</td>\n",
       "      <td>0</td>\n",
       "    </tr>\n",
       "    <tr>\n",
       "      <th>3</th>\n",
       "      <td>0</td>\n",
       "      <td>2003</td>\n",
       "      <td>4</td>\n",
       "      <td>20</td>\n",
       "      <td>11</td>\n",
       "      <td>15</td>\n",
       "      <td>0</td>\n",
       "      <td>0</td>\n",
       "    </tr>\n",
       "    <tr>\n",
       "      <th>4</th>\n",
       "      <td>0</td>\n",
       "      <td>2003</td>\n",
       "      <td>4</td>\n",
       "      <td>12</td>\n",
       "      <td>17</td>\n",
       "      <td>45</td>\n",
       "      <td>0</td>\n",
       "      <td>0</td>\n",
       "    </tr>\n",
       "  </tbody>\n",
       "</table>\n",
       "</div>"
      ],
      "text/plain": [
       "   TYPE  YEAR  MONTH  DAY  HOUR  MINUTE  HUNDRED_BLOCK  NEIGHBOURHOOD\n",
       "0     0  2003      5   12    16      15              0              0\n",
       "1     0  2003      5    7    15      20              0              0\n",
       "2     0  2003      4   23    16      40              0              0\n",
       "3     0  2003      4   20    11      15              0              0\n",
       "4     0  2003      4   12    17      45              0              0"
      ]
     },
     "execution_count": 4,
     "metadata": {},
     "output_type": "execute_result"
    }
   ],
   "source": [
    "# factrorizing data to with vallues from -1 to 1\n",
    "\n",
    "# setting \n",
    "df3.NEIGHBOURHOOD = pd.factorize(df3.NEIGHBOURHOOD)[0]\n",
    "df3.TYPE = pd.factorize(df3.TYPE)[0]\n",
    "df3.HUNDRED_BLOCK = pd.factorize(df3.HUNDRED_BLOCK)[0]\n",
    "\n",
    "df3.head()"
   ]
  },
  {
   "cell_type": "code",
   "execution_count": 5,
   "metadata": {
    "collapsed": false
   },
   "outputs": [],
   "source": [
    "# spliting the dataset and dropiing the predictor Nieghbourhood\n",
    "X = df3.drop(['NEIGHBOURHOOD'], axis=1)\n",
    "y = df3.NEIGHBOURHOOD\n",
    "\n",
    "X_train, X_test, y_train, y_test = train_test_split(X, y, train_size=0.5, random_state=0)"
   ]
  },
  {
   "cell_type": "code",
   "execution_count": 6,
   "metadata": {
    "collapsed": false
   },
   "outputs": [
    {
     "data": {
      "text/plain": [
       "Index(['TYPE', 'YEAR', 'MONTH', 'DAY', 'HOUR', 'MINUTE', 'HUNDRED_BLOCK'], dtype='object')"
      ]
     },
     "execution_count": 6,
     "metadata": {},
     "output_type": "execute_result"
    }
   ],
   "source": [
    "X.columns"
   ]
  },
  {
   "cell_type": "code",
   "execution_count": 7,
   "metadata": {
    "collapsed": false
   },
   "outputs": [
    {
     "data": {
      "text/plain": [
       "DecisionTreeRegressor(criterion='mse', max_depth=7, max_features=None,\n",
       "           max_leaf_nodes=None, min_impurity_decrease=0.0,\n",
       "           min_impurity_split=None, min_samples_leaf=1,\n",
       "           min_samples_split=2, min_weight_fraction_leaf=0.0,\n",
       "           presort=False, random_state=None, splitter='best')"
      ]
     },
     "execution_count": 7,
     "metadata": {},
     "output_type": "execute_result"
    }
   ],
   "source": [
    "# selecting the TreeClassaifier with depth \n",
    "regr2 = DecisionTreeRegressor(max_depth=7)\n",
    "regr2.fit(X_train, y_train)"
   ]
  },
  {
   "cell_type": "code",
   "execution_count": 8,
   "metadata": {
    "collapsed": false
   },
   "outputs": [
    {
     "data": {
      "text/plain": [
       "25.156309641982691"
      ]
     },
     "execution_count": 8,
     "metadata": {},
     "output_type": "execute_result"
    },
    {
     "data": {
      "image/png": "[encoded data removed]",
      "text/plain": [
       "<matplotlib.figure.Figure at 0x7f572d442ac8>"
      ]
     },
     "metadata": {},
     "output_type": "display_data"
    }
   ],
   "source": [
    "pred = regr2.predict(X_test)\n",
    "\n",
    "plt.scatter(pred, y_test, label='NIEGHBOURHOOD')\n",
    "plt.plot([0, 1], [0, 1], '--k', transform=plt.gca().transAxes)\n",
    "plt.xlabel('pred')\n",
    "plt.ylabel('y_test')\n",
    "\n",
    "mean_squared_error(y_test, pred)"
   ]
  },
  {
   "cell_type": "markdown",
   "metadata": {},
   "source": [
    "Our mean square is 25.01 and the sqaure root for is 5 that's mean most crimes comitted are around the Central Business District Area in Vancouver "
   ]
  },
  {
   "cell_type": "code",
   "execution_count": 9,
   "metadata": {
    "collapsed": false
   },
   "outputs": [
    {
     "data": {
      "text/plain": [
       "14.63617461166818"
      ]
     },
     "execution_count": 9,
     "metadata": {},
     "output_type": "execute_result"
    }
   ],
   "source": [
    "# Random forests: using 6 features\n",
    "regr2 = RandomForestRegressor(max_features=6, random_state=1)\n",
    "regr2.fit(X_train, y_train)\n",
    "\n",
    "pred = regr2.predict(X_test)\n",
    "mean_squared_error(y_test, pred)"
   ]
  },
  {
   "cell_type": "code",
   "execution_count": 10,
   "metadata": {
    "collapsed": false
   },
   "outputs": [
    {
     "data": {
      "image/png": "[encoded data removed]",
      "text/plain": [
       "<matplotlib.figure.Figure at 0x7f5728ae7a20>"
      ]
     },
     "metadata": {},
     "output_type": "display_data"
    }
   ],
   "source": [
    "Importance = pd.DataFrame({'Importance':regr2.feature_importances_*100}, index=X.columns)\n",
    "Importance.sort_values(by='Importance', axis=0, ascending=True).plot(kind='barh', color='r', )\n",
    "plt.xlabel('Variable Importance')\n",
    "plt.gca().legend_ = None"
   ]
  },
  {
   "cell_type": "markdown",
   "metadata": {},
   "source": [
    "We can see that the most feature affects of the Nieghbourhoos is the block. This means there are blocks are significantly more dangerous than others. Therefore we can use this conclusion to place more police units at thoes blocks. "
   ]
  },
  {
   "cell_type": "code",
   "execution_count": 11,
   "metadata": {
    "collapsed": false
   },
   "outputs": [
    {
     "data": {
      "text/plain": [
       "GradientBoostingRegressor(alpha=0.9, criterion='friedman_mse', init=None,\n",
       "             learning_rate=0.01, loss='ls', max_depth=4, max_features=None,\n",
       "             max_leaf_nodes=None, min_impurity_decrease=0.0,\n",
       "             min_impurity_split=None, min_samples_leaf=1,\n",
       "             min_samples_split=2, min_weight_fraction_leaf=0.0,\n",
       "             n_estimators=500, presort='auto', random_state=1,\n",
       "             subsample=1.0, verbose=0, warm_start=False)"
      ]
     },
     "execution_count": 11,
     "metadata": {},
     "output_type": "execute_result"
    }
   ],
   "source": [
    "regr = GradientBoostingRegressor(n_estimators=500, learning_rate=0.01, max_depth=4, random_state=1)\n",
    "regr.fit(X_train, y_train)"
   ]
  },
  {
   "cell_type": "code",
   "execution_count": 12,
   "metadata": {
    "collapsed": false
   },
   "outputs": [
    {
     "data": {
      "image/png": "[encoded data removed]",
      "text/plain": [
       "<matplotlib.figure.Figure at 0x7f5728926a20>"
      ]
     },
     "metadata": {},
     "output_type": "display_data"
    }
   ],
   "source": [
    "feature_importance = regr.feature_importances_*100\n",
    "rel_imp = pd.Series(feature_importance, index=X.columns).sort_values(inplace=False)\n",
    "rel_imp.T.plot(kind='barh', color='r', )\n",
    "plt.xlabel('Variable Importance')\n",
    "plt.gca().legend_ = None"
   ]
  },
  {
   "cell_type": "markdown",
   "metadata": {},
   "source": [
    "End of the regression trees"
   ]
  },
  {
   "cell_type": "markdown",
   "metadata": {},
   "source": [
    "# k-NN"
   ]
  },
  {
   "cell_type": "markdown",
   "metadata": {},
   "source": [
    "This is model is capable of predicting nieghbour's based on hour, year, type, and block number of crime. I will use auc test to determine if my model is able to produce. This is database can be find on https://www.kaggle.com/damianpanek/vancouver-crime/data This model is using supervised task"
   ]
  },
  {
   "cell_type": "code",
   "execution_count": 13,
   "metadata": {
    "collapsed": false
   },
   "outputs": [
    {
     "data": {
      "text/plain": [
       "LinearDiscriminantAnalysis(n_components=None, priors=None, shrinkage=None,\n",
       "              solver='svd', store_covariance=False, tol=0.0001)"
      ]
     },
     "execution_count": 13,
     "metadata": {},
     "output_type": "execute_result"
    }
   ],
   "source": [
    "# spliting the dataset and dropiing the predictor Nieghbourhood\n",
    "df3_train = df3[['YEAR', 'HUNDRED_BLOCK' , 'TYPE']]\n",
    "X_train = df3_train\n",
    "y_train = df3['NEIGHBOURHOOD']\n",
    "\n",
    "lda = LinearDiscriminantAnalysis()\n",
    "lda.fit(X_train, y_train)\n",
    "\n",
    "\n",
    "lda = LinearDiscriminantAnalysis()\n",
    "lda.fit(X_train, y_train)"
   ]
  },
  {
   "cell_type": "code",
   "execution_count": 14,
   "metadata": {
    "collapsed": false
   },
   "outputs": [
    {
     "data": {
      "text/plain": [
       "LinearDiscriminantAnalysis(n_components=None, priors=None, shrinkage=None,\n",
       "              solver='svd', store_covariance=False, tol=0.0001)"
      ]
     },
     "execution_count": 14,
     "metadata": {},
     "output_type": "execute_result"
    }
   ],
   "source": [
    "df3_test = df3[['YEAR', 'HUNDRED_BLOCK' , 'TYPE']]\n",
    "X_test = df3_train\n",
    "y_test = df3['NEIGHBOURHOOD']\n",
    "\n",
    "lda = LinearDiscriminantAnalysis()\n",
    "lda.fit(X_train, y_train)\n"
   ]
  },
  {
   "cell_type": "code",
   "execution_count": 15,
   "metadata": {
    "collapsed": false
   },
   "outputs": [
    {
     "data": {
      "text/plain": [
       "KNeighborsClassifier(algorithm='auto', leaf_size=30, metric='minkowski',\n",
       "           metric_params=None, n_jobs=1, n_neighbors=7, p=2,\n",
       "           weights='uniform')"
      ]
     },
     "execution_count": 15,
     "metadata": {},
     "output_type": "execute_result"
    }
   ],
   "source": [
    "knn = KNeighborsClassifier(7)\n",
    "knn.fit(X_train, y_train)"
   ]
  },
  {
   "cell_type": "code",
   "execution_count": 16,
   "metadata": {
    "collapsed": false
   },
   "outputs": [
    {
     "name": "stdout",
     "output_type": "stream",
     "text": [
      "Confusion matrix:\n",
      "\n",
      "[-1  0  1  2  3  4  5  6  7  8  9 10 11 12 13 14 15 16 17 18 19 20 21 22 23]\n",
      "[[  630     1     0     0     1     2     0     0     0     2     0     2\n",
      "      0     0     0     0     0     0     0     0     0     0     0     1\n",
      "      0]\n",
      " [    0 10280    17   114    52   135   653    52   102   118    15    60\n",
      "     27    35    33   209    65    18    56    16    53    23    20     4\n",
      "      2]\n",
      " [    0    76  2158    58    35    63   137    29   101    52    43   110\n",
      "     40    54    45    78    89     7    45    39    25    25    30     5\n",
      "      3]\n",
      " [    0   276    56 11296   104   368   577    67   373   229    24   121\n",
      "     55    31    64   240   152    17   162    16    51    22    14    32\n",
      "      4]\n",
      " [    0   178    58   178  6877   137   360   139   135   140    35   115\n",
      "    112    56    76   169    95    12    95    22   105    21    58    10\n",
      "      5]\n",
      " [    0   111    32   159    50 20150  1088    13    44    76     7    44\n",
      "     20     2     6    73   113    30    24     5    44     7    12     5\n",
      "      0]\n",
      " [   22   507    55   185   158   833 65846    65   109   244    21   105\n",
      "     51    22    76   194   123    21    63    12    72    16    14     8\n",
      "      2]\n",
      " [    0    76    36   261   230    83   280  3308   119   103    17   134\n",
      "     80    56    61   109   120    17    82    26    49    49    56    13\n",
      "      0]\n",
      " [    1   207   109   726   220   138   541   177  9688   121    53   372\n",
      "     68    35   117   201   116     6   149    60    66    64    35    22\n",
      "      7]\n",
      " [    0   151    29   223   106   245   533    58   143 13960    44   108\n",
      "     23    45    19   374   201     6    62    23    87    16    43    33\n",
      "      0]\n",
      " [    0    68    70    77    59    44   107    58   132   122  1339   115\n",
      "     40    67    60    42    65     6    24    18    40    25    41    41\n",
      "      3]\n",
      " [    0   116    95   266   197   161   417   104   397   252    74 11613\n",
      "    141    29    72   199   137    10   253    40    67    51    28    29\n",
      "      4]\n",
      " [    0    67    57   170   205    84   172   138   103    79    41   293\n",
      "   3094    52    26    83    54    15   120     8    54    14    49    10\n",
      "      3]\n",
      " [    0    58    71    74   137    52   141    76    72    93    65   132\n",
      "     68  1996    29    91   112     7    63    17    46    47    66     5\n",
      "      2]\n",
      " [    7   171    85   141   158    90   377    65   261   109    56   157\n",
      "     42    48  3588   241    34     5    77    29    52    23    42    77\n",
      "      6]\n",
      " [    1   339    78   218   182   251   628   110   200   330    43   211\n",
      "     46    63   170 13323   212    15   129    22    83    26    30    19\n",
      "      1]\n",
      " [    1   141   132   311   105   293   537   126   200   326    54   219\n",
      "     66    70    36   287  9155    24   150    46    60    82    41    15\n",
      "      5]\n",
      " [    0     8     3    20    20    40    41    10    13     4     4     8\n",
      "      6     5     3     9    14  1968     7     9    17     2     3     0\n",
      "      0]\n",
      " [    1   200    69   307   172   155   386    85   237   231    37   408\n",
      "    136    88   105   223   192    24  6082    22    82    29    18    21\n",
      "      1]\n",
      " [    0    32    79    44    34    21   107    34   111    82    35    67\n",
      "     32    34    52    56    84     4    36  1691    18     5    13     8\n",
      "      3]\n",
      " [    0   114    37   124   156    92   311    88   101   194    43   133\n",
      "     49    56    49    94    99    40    68    16  4450    22    61     8\n",
      "      3]\n",
      " [    0    70    53    72    60    37    92    31   129    37    57   121\n",
      "     24    59    49    93   150     6    53    28    24  1611    16    17\n",
      "      0]\n",
      " [    1    43    20    90    76    36   129    42    52   125    51    66\n",
      "     50    78    40    83    69    10    37     6    78    13  3246    16\n",
      "      1]\n",
      " [    0    44    38    38    44    37   121    29    62    98    52    90\n",
      "     21    21    91    43    51     2    21     6    10     8    51  1794\n",
      "      0]\n",
      " [    0    14     2    13    12     7     8     3    25     4     1     6\n",
      "      6     6     8     6     4     0     1     6     7     4     1     1\n",
      "    120]]\n",
      "\n",
      "The accuracy is:  0.811420838552\n"
     ]
    }
   ],
   "source": [
    "knn_preds = knn.predict(X_test)\n",
    "\n",
    "conf = confusion_matrix(y_test, knn_preds, labels=knn.classes_)\n",
    "print('Confusion matrix:\\n')\n",
    "print(knn.classes_)\n",
    "print(conf)\n",
    "acc = accuracy_score(y_test, knn_preds)\n",
    "print('\\nThe accuracy is: ', acc)"
   ]
  },
  {
   "cell_type": "markdown",
   "metadata": {},
   "source": [
    "we have 23 nieghbourhood"
   ]
  },
  {
   "cell_type": "code",
   "execution_count": 17,
   "metadata": {
    "collapsed": false
   },
   "outputs": [
    {
     "name": "stdout",
     "output_type": "stream",
     "text": [
      "\n",
      "The accuracy is:  0.811420838552\n"
     ]
    }
   ],
   "source": [
    "acc = accuracy_score(y_test, knn_preds)\n",
    "print('\\nThe accuracy is: ', acc)"
   ]
  },
  {
   "cell_type": "markdown",
   "metadata": {},
   "source": [
    "81% is very good number, in conlusion we can predict the type of crime based on its location"
   ]
  },
  {
   "cell_type": "markdown",
   "metadata": {},
   "source": [
    "\n",
    "# Logestic Regression "
   ]
  },
  {
   "cell_type": "code",
   "execution_count": 18,
   "metadata": {
    "collapsed": false
   },
   "outputs": [
    {
     "name": "stdout",
     "output_type": "stream",
     "text": [
      "The MSE using all features is 4.46638842273e-27\n"
     ]
    }
   ],
   "source": [
    "X = df3.drop(['NEIGHBOURHOOD'], axis=1)\n",
    "\n",
    "# encode categorical variables as numeric variables using the get_dummies() function\n",
    "X = df3\n",
    "y = df3['NEIGHBOURHOOD']\n",
    "\n",
    "train_size = 5000\n",
    "X_full_train = X[0:train_size]\n",
    "X_full_test = X[train_size:]\n",
    "\n",
    "y_train = y[0:train_size]\n",
    "y_test = y[train_size:]\n",
    "\n",
    "lm = LinearRegression()\n",
    "lm.fit(X_full_train, y_train)\n",
    "\n",
    "preds_full = lm.predict(X_full_test)\n",
    "mse_full = mean_squared_error(y_test, preds_full)\n",
    "print(\"The MSE using all features is %s\" % mse_full)\n",
    "\n"
   ]
  },
  {
   "cell_type": "code",
   "execution_count": 19,
   "metadata": {
    "collapsed": false
   },
   "outputs": [
    {
     "name": "stdout",
     "output_type": "stream",
     "text": [
      "These are the feas that were selected:\n",
      "\n",
      "['TYPE' 'DAY' 'HOUR' 'MINUTE' 'HUNDRED_BLOCK' 'NEIGHBOURHOOD']\n"
     ]
    },
    {
     "name": "stderr",
     "output_type": "stream",
     "text": [
      "/home/root1/anaconda3/lib/python3.6/site-packages/sklearn/feature_selection/univariate_selection.py:298: RuntimeWarning: divide by zero encountered in true_divide\n",
      "  corr /= X_norms\n",
      "/home/root1/anaconda3/lib/python3.6/site-packages/sklearn/feature_selection/univariate_selection.py:303: RuntimeWarning: invalid value encountered in true_divide\n",
      "  F = corr ** 2 / (1 - corr ** 2) * degrees_of_freedom\n",
      "/home/root1/anaconda3/lib/python3.6/site-packages/scipy/stats/_distn_infrastructure.py:879: RuntimeWarning: invalid value encountered in greater\n",
      "  return (self.a < x) & (x < self.b)\n",
      "/home/root1/anaconda3/lib/python3.6/site-packages/scipy/stats/_distn_infrastructure.py:879: RuntimeWarning: invalid value encountered in less\n",
      "  return (self.a < x) & (x < self.b)\n",
      "/home/root1/anaconda3/lib/python3.6/site-packages/scipy/stats/_distn_infrastructure.py:1818: RuntimeWarning: invalid value encountered in less_equal\n",
      "  cond2 = cond0 & (x <= self.a)\n"
     ]
    }
   ],
   "source": [
    "perc = 80 # percentage of features to keep \n",
    "\n",
    "selector = SelectPercentile(f_regression, percentile=perc)\n",
    "selector.fit_transform(X_full_train, y_train)\n",
    "selected_cols = selector.get_support()\n",
    "selected_feas = X_full_train.columns.values[selected_cols]\n",
    "print(\"These are the feas that were selected:\\n\")\n",
    "print(selected_feas)\n",
    "\n",
    "X_sub_train = X_full_train[selected_feas]\n",
    "\n",
    "X_sub_test = X_full_test[selected_feas] "
   ]
  },
  {
   "cell_type": "code",
   "execution_count": 20,
   "metadata": {
    "collapsed": false
   },
   "outputs": [
    {
     "name": "stdout",
     "output_type": "stream",
     "text": [
      "The MSE using just the selected features is 1.05761777499e-27\n"
     ]
    },
    {
     "data": {
      "image/png": "[encoded data removed]",
      "text/plain": [
       "<matplotlib.figure.Figure at 0x7f57288b9c88>"
      ]
     },
     "metadata": {},
     "output_type": "display_data"
    }
   ],
   "source": [
    "lm_sub = LinearRegression()\n",
    "lm_sub.fit(X_sub_train, y_train)\n",
    "\n",
    "preds_sub = lm_sub.predict(X_sub_test)\n",
    "mse_sub = mean_squared_error(y_test, preds_sub)\n",
    "print(\"The MSE using just the selected features is %s\" % mse_sub)\n",
    "\n",
    "plt.figure()\n",
    "plt.scatter(y_test, preds_sub)\n",
    "plt.show()"
   ]
  },
  {
   "cell_type": "markdown",
   "metadata": {},
   "source": [
    "The Linear regression is not good for this model as the plot shows it can't make predication "
   ]
  },
  {
   "cell_type": "code",
   "execution_count": null,
   "metadata": {
    "collapsed": true
   },
   "outputs": [],
   "source": []
  }
 ],
 "metadata": {
  "kernelspec": {
   "display_name": "Python 3",
   "language": "python",
   "name": "python3"
  },
  "language_info": {
   "codemirror_mode": {
    "name": "ipython",
    "version": 3
   },
   "file_extension": ".py",
   "mimetype": "text/x-python",
   "name": "python",
   "nbconvert_exporter": "python",
   "pygments_lexer": "ipython3",
   "version": "3.6.0"
  }
 },
 "nbformat": 4,
 "nbformat_minor": 2
}
